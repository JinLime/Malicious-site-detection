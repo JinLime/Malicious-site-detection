{
 "cells": [
  {
   "cell_type": "code",
   "execution_count": 8,
   "metadata": {},
   "outputs": [],
   "source": [
    "import pandas as pd\n",
    "import numpy as np\n",
    "\n",
    "from sklearn.impute import KNNImputer\n",
    "\n",
    "from sklearn.model_selection import train_test_split\n",
    "\n",
    "from catboost import CatBoostClassifier\n",
    "from sklearn.ensemble import RandomForestClassifier\n",
    "from xgboost import XGBClassifier\n",
    "from lightgbm import LGBMClassifier\n",
    "from sklearn.ensemble import ExtraTreesClassifier\n",
    "\n",
    "from bayes_opt import BayesianOptimization\n",
    "\n",
    "from sklearn.metrics import f1_score, confusion_matrix, classification_report\n",
    "\n",
    "import warnings\n",
    "warnings.filterwarnings(\"ignore\")"
   ]
  },
  {
   "cell_type": "code",
   "execution_count": 9,
   "metadata": {},
   "outputs": [],
   "source": [
    "train = pd.read_csv('train_dataset.csv', encoding='cp949')\n",
    "\n",
    "# 필요없는 열 제거\n",
    "drop_cols = [\"Unnamed: 0\", \"url_chinese_present\", \"html_num_tags('applet')\"]\n",
    "train.drop(drop_cols, axis=1, inplace=True)\n",
    "\n",
    "# benign(정상) -> 1, malicious(악성) -> -1 \n",
    "train['Result_v1'] = train['Result_v1'].map({'benign': 1, 'malicious': -1})"
   ]
  },
  {
   "cell_type": "markdown",
   "metadata": {},
   "source": [
    "## <span style=\"color: hotpink\"> **1. 데이터 전처리** </span>"
   ]
  },
  {
   "cell_type": "markdown",
   "metadata": {},
   "source": [
    "### <span style=\"color: skyblue\"> **결측치 처리(KNN Imputer)** </span>"
   ]
  },
  {
   "cell_type": "code",
   "execution_count": 10,
   "metadata": {},
   "outputs": [],
   "source": [
    "imputer = KNNImputer(n_neighbors=9)\n",
    "\n",
    "imputer.fit(train)\n",
    "x = imputer.transform(train)\n",
    "\n",
    "train = pd.DataFrame(x, columns=train.columns, index=train.index)"
   ]
  },
  {
   "cell_type": "markdown",
   "metadata": {},
   "source": [
    "### <span style=\"color: skyblue\"> **학습 데이터 분할** </span>"
   ]
  },
  {
   "cell_type": "code",
   "execution_count": 11,
   "metadata": {},
   "outputs": [],
   "source": [
    "# Target 설정\n",
    "target = 'Result_v1'\n",
    "\n",
    "# 데이터 분리\n",
    "X = train.drop(target, axis=1)\n",
    "y = train.loc[:, target]\n",
    "\n",
    "# 학습 데이터 분할\n",
    "X_train, X_valid, y_train, y_valid = train_test_split(X, y, test_size=0.2, random_state=2022)"
   ]
  },
  {
   "cell_type": "markdown",
   "metadata": {},
   "source": [
    "## <span style=\"color: hotpink\"> **2. 모델 하이퍼파라미터 튜닝(Bayesian optimization)** </span>"
   ]
  },
  {
   "cell_type": "markdown",
   "metadata": {},
   "source": [
    "### <span style=\"color: skyblue\"> **탐색 대상 함수 정의** </span>\n",
    "- Catboost\n",
    "- RandomForest\n",
    "- XGboost\n",
    "- LGBM\n",
    "- Extratrees"
   ]
  },
  {
   "cell_type": "code",
   "execution_count": 12,
   "metadata": {},
   "outputs": [],
   "source": [
    "# Catboost\n",
    "def catboost_cv(subsample, depth, learning_rate, bagging_temperature, l2_leaf_reg):\n",
    "\n",
    "    model = CatBoostClassifier(subsample=(subsample),\n",
    "                               depth=int(depth),\n",
    "                               learning_rate=(learning_rate),\n",
    "                               bagging_temperature=(bagging_temperature),\n",
    "                               l2_leaf_reg=(l2_leaf_reg),\n",
    "                               random_state=2022,\n",
    "                               silent=True\n",
    "                               )\n",
    "\n",
    "    model.fit(X_train, y_train)\n",
    "    y_pred= model.predict(X_valid)\n",
    "    f1 = f1_score(y_valid, y_pred)\n",
    "\n",
    "    return f1\n",
    "\n",
    "# Randomforest\n",
    "def rf_cv(n_estimators, max_depth, min_samples_split, min_samples_leaf):\n",
    "\n",
    "    model = RandomForestClassifier(n_estimators=int(n_estimators),\n",
    "                                   max_depth=int(max_depth),\n",
    "                                   min_samples_split=int(min_samples_split),\n",
    "                                   min_samples_leaf=int(min_samples_leaf),\n",
    "                                   random_state=2022\n",
    "                                  )\n",
    "\n",
    "    model.fit(X_train, y_train)\n",
    "    y_pred= model.predict(X_valid)\n",
    "    f1 = f1_score(y_valid, y_pred)\n",
    "\n",
    "    return f1\n",
    "\n",
    "# Xgboost\n",
    "def xg_cv(learning_rate, max_depth, n_estimators, subsample):\n",
    "\n",
    "    model = XGBClassifier(learning_rate=(learning_rate),\n",
    "                          max_depth=int(max_depth),\n",
    "                          n_estimators=int(n_estimators),\n",
    "                          subsample=(subsample),\n",
    "                          random_state=2022\n",
    "                         )\n",
    "                                      \n",
    "    y_train_xg, y_valid_xg = y_train.copy(), y_valid.copy()\n",
    "    y_train_xg = y_train_xg.map({1:1, -1:0})\n",
    "    y_valid_xg = y_valid_xg.map({1:1, -1:0})                         \n",
    "\n",
    "    model.fit(X_train, y_train_xg)\n",
    "    y_pred= model.predict(X_valid)\n",
    "    f1 = f1_score(y_valid_xg, y_pred)\n",
    "\n",
    "    return f1\n",
    "\n",
    "# LightGBM\n",
    "def lgbm_cv(learning_rate, max_depth, n_estimators, num_leaves, subsample):\n",
    "\n",
    "    model = LGBMClassifier(learning_rate=(learning_rate),\n",
    "                            max_depth=int(max_depth),\n",
    "                            n_estimators=int(n_estimators),\n",
    "                            num_leaves=int(num_leaves),\n",
    "                            subsample=(subsample),\n",
    "                            random_state=2022\n",
    "                                  )\n",
    "\n",
    "    model.fit(X_train, y_train)\n",
    "    y_pred= model.predict(X_valid)\n",
    "    f1 = f1_score(y_valid, y_pred)\n",
    "\n",
    "    return f1\n",
    "\n",
    "# ExtraTrees \n",
    "def xtree_cv(n_estimators, max_depth, min_samples_split, min_samples_leaf,):\n",
    "\n",
    "    model = ExtraTreesClassifier(n_estimators=int(n_estimators),\n",
    "                                 max_depth=int(max_depth),\n",
    "                                 min_samples_split=int(min_samples_split),\n",
    "                                 min_samples_leaf=int(min_samples_leaf),\n",
    "                                )\n",
    "\n",
    "    model.fit(X_train, y_train)\n",
    "    y_pred= model.predict(X_valid)\n",
    "    f1 = f1_score(y_valid, y_pred)\n",
    "\n",
    "    return f1"
   ]
  },
  {
   "cell_type": "markdown",
   "metadata": {},
   "source": [
    "### <span style=\"color: skyblue\"> **Catboost 하이퍼파라미터 튜닝** </span>"
   ]
  },
  {
   "cell_type": "code",
   "execution_count": 13,
   "metadata": {},
   "outputs": [
    {
     "name": "stdout",
     "output_type": "stream",
     "text": [
      "|   iter    |  target   | baggin... |   depth   | l2_lea... | learni... | subsample |\n",
      "-------------------------------------------------------------------------------------\n",
      "| \u001b[95m 3       \u001b[0m | \u001b[95m 0.9723  \u001b[0m | \u001b[95m 1.185   \u001b[0m | \u001b[95m 15.64   \u001b[0m | \u001b[95m 8.492   \u001b[0m | \u001b[95m 0.2131  \u001b[0m | \u001b[95m 0.19    \u001b[0m |\n",
      "| \u001b[95m 6       \u001b[0m | \u001b[95m 0.9723  \u001b[0m | \u001b[95m 2.181   \u001b[0m | \u001b[95m 14.59   \u001b[0m | \u001b[95m 8.457   \u001b[0m | \u001b[95m 0.6524  \u001b[0m | \u001b[95m 0.4638  \u001b[0m |\n",
      "| \u001b[95m 11      \u001b[0m | \u001b[95m 0.9736  \u001b[0m | \u001b[95m 5.639   \u001b[0m | \u001b[95m 11.71   \u001b[0m | \u001b[95m 9.958   \u001b[0m | \u001b[95m 0.09335 \u001b[0m | \u001b[95m 0.7156  \u001b[0m |\n",
      "| \u001b[95m 16      \u001b[0m | \u001b[95m 0.9737  \u001b[0m | \u001b[95m 4.141   \u001b[0m | \u001b[95m 13.7    \u001b[0m | \u001b[95m 9.768   \u001b[0m | \u001b[95m 0.0253  \u001b[0m | \u001b[95m 0.8288  \u001b[0m |\n",
      "| \u001b[95m 32      \u001b[0m | \u001b[95m 0.975   \u001b[0m | \u001b[95m 7.367   \u001b[0m | \u001b[95m 13.3    \u001b[0m | \u001b[95m 3.97    \u001b[0m | \u001b[95m 0.06901 \u001b[0m | \u001b[95m 0.924   \u001b[0m |\n",
      "| \u001b[95m 104     \u001b[0m | \u001b[95m 0.9763  \u001b[0m | \u001b[95m 8.675   \u001b[0m | \u001b[95m 15.32   \u001b[0m | \u001b[95m 8.436   \u001b[0m | \u001b[95m 0.8024  \u001b[0m | \u001b[95m 0.2465  \u001b[0m |\n",
      "=====================================================================================\n",
      "{'target': 0.9763157894736844, 'params': {'bagging_temperature': 8.67523211231834, 'depth': 15.324250797621403, 'l2_leaf_reg': 8.435591915591619, 'learning_rate': 0.8023802556747033, 'subsample': 0.2464941405066032}}\n"
     ]
    }
   ],
   "source": [
    "pds = {'subsample': (0.01, 1.0),\n",
    "       'depth': (4, 16),\n",
    "       'learning_rate': (0.001, 1.0),\n",
    "       'bagging_temperature': (1.0, 10.0),\n",
    "       'l2_leaf_reg': (1, 10)\n",
    "      }\n",
    "\n",
    "optimizer=BayesianOptimization(catboost_cv, pds, verbose=1, random_state=2022)    \n",
    "\n",
    "optimizer.maximize(init_points=5,   \n",
    "                   n_iter=100, \n",
    "                   acq='ei', \n",
    "                   xi=0.01)\n",
    "\n",
    "print(optimizer.max)"
   ]
  },
  {
   "cell_type": "markdown",
   "metadata": {},
   "source": [
    "### <span style=\"color: skyblue\"> **RandomForest 하이퍼파라미터 튜닝** </span>"
   ]
  },
  {
   "cell_type": "code",
   "execution_count": 23,
   "metadata": {},
   "outputs": [
    {
     "name": "stdout",
     "output_type": "stream",
     "text": [
      "|   iter    |  target   | max_depth | min_sa... | min_sa... | n_esti... |\n",
      "-------------------------------------------------------------------------\n",
      "| \u001b[95m 2       \u001b[0m | \u001b[95m 0.918   \u001b[0m | \u001b[95m 205.9   \u001b[0m | \u001b[95m 49.21   \u001b[0m | \u001b[95m 89.97   \u001b[0m | \u001b[95m 1.298e+0\u001b[0m |\n",
      "| \u001b[95m 6       \u001b[0m | \u001b[95m 0.9349  \u001b[0m | \u001b[95m 223.5   \u001b[0m | \u001b[95m 29.96   \u001b[0m | \u001b[95m 31.27   \u001b[0m | \u001b[95m 1.507e+0\u001b[0m |\n",
      "| \u001b[95m 9       \u001b[0m | \u001b[95m 0.9429  \u001b[0m | \u001b[95m 292.8   \u001b[0m | \u001b[95m 4.744   \u001b[0m | \u001b[95m 79.84   \u001b[0m | \u001b[95m 722.2   \u001b[0m |\n",
      "| \u001b[95m 12      \u001b[0m | \u001b[95m 0.9468  \u001b[0m | \u001b[95m 291.0   \u001b[0m | \u001b[95m 2.6     \u001b[0m | \u001b[95m 53.29   \u001b[0m | \u001b[95m 748.0   \u001b[0m |\n",
      "| \u001b[95m 13      \u001b[0m | \u001b[95m 0.9562  \u001b[0m | \u001b[95m 298.0   \u001b[0m | \u001b[95m 4.261   \u001b[0m | \u001b[95m 3.721   \u001b[0m | \u001b[95m 726.5   \u001b[0m |\n",
      "| \u001b[95m 17      \u001b[0m | \u001b[95m 0.9588  \u001b[0m | \u001b[95m 275.6   \u001b[0m | \u001b[95m 3.657   \u001b[0m | \u001b[95m 8.383   \u001b[0m | \u001b[95m 685.5   \u001b[0m |\n",
      "| \u001b[95m 20      \u001b[0m | \u001b[95m 0.9654  \u001b[0m | \u001b[95m 254.0   \u001b[0m | \u001b[95m 1.651   \u001b[0m | \u001b[95m 6.338   \u001b[0m | \u001b[95m 560.3   \u001b[0m |\n",
      "| \u001b[95m 87      \u001b[0m | \u001b[95m 0.9655  \u001b[0m | \u001b[95m 218.5   \u001b[0m | \u001b[95m 2.901   \u001b[0m | \u001b[95m 3.808   \u001b[0m | \u001b[95m 231.9   \u001b[0m |\n",
      "| \u001b[95m 158     \u001b[0m | \u001b[95m 0.9657  \u001b[0m | \u001b[95m 172.3   \u001b[0m | \u001b[95m 1.292   \u001b[0m | \u001b[95m 4.444   \u001b[0m | \u001b[95m 57.7    \u001b[0m |\n",
      "| \u001b[95m 424     \u001b[0m | \u001b[95m 0.9668  \u001b[0m | \u001b[95m 15.43   \u001b[0m | \u001b[95m 1.212   \u001b[0m | \u001b[95m 3.269   \u001b[0m | \u001b[95m 1.38e+03\u001b[0m |\n",
      "=========================================================================\n",
      "{'target': 0.9667994687915006, 'params': {'max_depth': 15.428571037861042, 'min_samples_leaf': 1.2122723819992876, 'min_samples_split': 3.2687557035238326, 'n_estimators': 1379.8268283149073}}\n"
     ]
    }
   ],
   "source": [
    "pds = {'n_estimators': (10, 2000),\n",
    "       'max_depth': (1, 300),\n",
    "       'min_samples_split': (2, 100),\n",
    "       'min_samples_leaf': (1, 100)\n",
    "      }\n",
    "\n",
    "optimizer=BayesianOptimization(rf_cv, pds, verbose=1, random_state=2022)    \n",
    "\n",
    "optimizer.maximize(init_points=10,  \n",
    "                   n_iter=500, \n",
    "                   acq='ei')   \n",
    "\n",
    "print(optimizer.max)"
   ]
  },
  {
   "cell_type": "markdown",
   "metadata": {},
   "source": [
    "### <span style=\"color: skyblue\"> **XGboost 하이퍼파라미터 튜닝** </span>"
   ]
  },
  {
   "cell_type": "code",
   "execution_count": 24,
   "metadata": {},
   "outputs": [
    {
     "name": "stdout",
     "output_type": "stream",
     "text": [
      "|   iter    |  target   | learni... | max_depth | n_esti... | subsample |\n",
      "-------------------------------------------------------------------------\n",
      "| \u001b[95m 2       \u001b[0m | \u001b[95m 0.9643  \u001b[0m | \u001b[95m 0.6886  \u001b[0m | \u001b[95m 146.6   \u001b[0m | \u001b[95m 1.796e+0\u001b[0m | \u001b[95m 0.6827  \u001b[0m |\n",
      "| \u001b[95m 3       \u001b[0m | \u001b[95m 0.9658  \u001b[0m | \u001b[95m 0.898   \u001b[0m | \u001b[95m 216.6   \u001b[0m | \u001b[95m 1.664e+0\u001b[0m | \u001b[95m 0.8448  \u001b[0m |\n",
      "| \u001b[95m 7       \u001b[0m | \u001b[95m 0.9683  \u001b[0m | \u001b[95m 0.02848 \u001b[0m | \u001b[95m 157.6   \u001b[0m | \u001b[95m 1.73e+03\u001b[0m | \u001b[95m 0.45    \u001b[0m |\n",
      "| \u001b[95m 13      \u001b[0m | \u001b[95m 0.9723  \u001b[0m | \u001b[95m 0.01079 \u001b[0m | \u001b[95m 122.4   \u001b[0m | \u001b[95m 1.739e+0\u001b[0m | \u001b[95m 0.698   \u001b[0m |\n",
      "| \u001b[95m 95      \u001b[0m | \u001b[95m 0.9735  \u001b[0m | \u001b[95m 0.03136 \u001b[0m | \u001b[95m 109.3   \u001b[0m | \u001b[95m 675.6   \u001b[0m | \u001b[95m 0.8344  \u001b[0m |\n",
      "| \u001b[95m 123     \u001b[0m | \u001b[95m 0.9736  \u001b[0m | \u001b[95m 0.1319  \u001b[0m | \u001b[95m 191.4   \u001b[0m | \u001b[95m 1.277e+0\u001b[0m | \u001b[95m 0.562   \u001b[0m |\n",
      "| \u001b[95m 178     \u001b[0m | \u001b[95m 0.975   \u001b[0m | \u001b[95m 0.4811  \u001b[0m | \u001b[95m 213.4   \u001b[0m | \u001b[95m 903.9   \u001b[0m | \u001b[95m 0.952   \u001b[0m |\n",
      "=========================================================================\n",
      "{'target': 0.9749670619235837, 'params': {'learning_rate': 0.4811138987024146, 'max_depth': 213.40262449461045, 'n_estimators': 903.9204388874033, 'subsample': 0.9520311177576255}}\n"
     ]
    }
   ],
   "source": [
    "pds = {'learning_rate': (0.01, 1.0),\n",
    "       'max_depth': (1, 300),\n",
    "       'n_estimators': (10, 2000),\n",
    "       'subsample': (0.1, 1.0)\n",
    "      }\n",
    "\n",
    "optimizer=BayesianOptimization(xg_cv, pds, verbose=1, random_state=2022)    \n",
    "\n",
    "optimizer.maximize(init_points=10,  \n",
    "                   n_iter=300, \n",
    "                   acq='ei')   \n",
    "\n",
    "print(optimizer.max)"
   ]
  },
  {
   "cell_type": "markdown",
   "metadata": {},
   "source": [
    "### <span style=\"color: skyblue\"> **LGBM 하이퍼파라미터 튜닝** </span>"
   ]
  },
  {
   "cell_type": "code",
   "execution_count": 25,
   "metadata": {},
   "outputs": [
    {
     "name": "stdout",
     "output_type": "stream",
     "text": [
      "|   iter    |  target   | learni... | max_depth | n_esti... | num_le... | subsample |\n",
      "-------------------------------------------------------------------------------------\n",
      "| \u001b[95m 2       \u001b[0m | \u001b[95m 0.9696  \u001b[0m | \u001b[95m 0.4921  \u001b[0m | \u001b[95m 269.4   \u001b[0m | \u001b[95m 1.298e+0\u001b[0m | \u001b[95m 538.4   \u001b[0m | \u001b[95m 0.7239  \u001b[0m |\n",
      "| \u001b[95m 4       \u001b[0m | \u001b[95m 0.9697  \u001b[0m | \u001b[95m 0.4999  \u001b[0m | \u001b[95m 102.5   \u001b[0m | \u001b[95m 1.243e+0\u001b[0m | \u001b[95m 586.6   \u001b[0m | \u001b[95m 0.1055  \u001b[0m |\n",
      "| \u001b[95m 5       \u001b[0m | \u001b[95m 0.9723  \u001b[0m | \u001b[95m 0.7468  \u001b[0m | \u001b[95m 88.46   \u001b[0m | \u001b[95m 604.4   \u001b[0m | \u001b[95m 452.0   \u001b[0m | \u001b[95m 0.02848 \u001b[0m |\n",
      "| \u001b[95m 9       \u001b[0m | \u001b[95m 0.9735  \u001b[0m | \u001b[95m 0.09057 \u001b[0m | \u001b[95m 13.69   \u001b[0m | \u001b[95m 600.6   \u001b[0m | \u001b[95m 219.5   \u001b[0m | \u001b[95m 0.4954  \u001b[0m |\n",
      "| \u001b[95m 26      \u001b[0m | \u001b[95m 0.9736  \u001b[0m | \u001b[95m 0.2574  \u001b[0m | \u001b[95m 80.89   \u001b[0m | \u001b[95m 1.833e+0\u001b[0m | \u001b[95m 369.7   \u001b[0m | \u001b[95m 0.5243  \u001b[0m |\n",
      "| \u001b[95m 119     \u001b[0m | \u001b[95m 0.9737  \u001b[0m | \u001b[95m 0.454   \u001b[0m | \u001b[95m 163.3   \u001b[0m | \u001b[95m 796.7   \u001b[0m | \u001b[95m 360.5   \u001b[0m | \u001b[95m 0.8105  \u001b[0m |\n",
      "| \u001b[95m 140     \u001b[0m | \u001b[95m 0.9763  \u001b[0m | \u001b[95m 0.7013  \u001b[0m | \u001b[95m 232.8   \u001b[0m | \u001b[95m 1.631e+0\u001b[0m | \u001b[95m 356.9   \u001b[0m | \u001b[95m 0.4237  \u001b[0m |\n",
      "=====================================================================================\n",
      "{'target': 0.9763157894736844, 'params': {'learning_rate': 0.7013120149929594, 'max_depth': 232.76242715728054, 'n_estimators': 1631.052868388154, 'num_leaves': 356.935675558698, 'subsample': 0.4236923048657558}}\n"
     ]
    }
   ],
   "source": [
    "pds = {'learning_rate': (0.01, 1.0),\n",
    "       'max_depth': (1, 300),\n",
    "       'n_estimators': (10, 2000),\n",
    "       'num_leaves': (2, 600),\n",
    "       'subsample': (0.01, 1.0)\n",
    "      }\n",
    "\n",
    "optimizer=BayesianOptimization(lgbm_cv, pds, verbose=1, random_state=2022)    \n",
    "\n",
    "optimizer.maximize(init_points=10,  \n",
    "                   n_iter=300, \n",
    "                   acq='ei')   \n",
    "\n",
    "print(optimizer.max)"
   ]
  },
  {
   "cell_type": "markdown",
   "metadata": {},
   "source": [
    "### <span style=\"color: skyblue\"> **ExtraTrees 하이퍼파라미터 튜닝** </span>"
   ]
  },
  {
   "cell_type": "code",
   "execution_count": 26,
   "metadata": {},
   "outputs": [
    {
     "name": "stdout",
     "output_type": "stream",
     "text": [
      "|   iter    |  target   | max_depth | min_sa... | min_sa... | n_esti... |\n",
      "-------------------------------------------------------------------------\n",
      "| \u001b[95m 2       \u001b[0m | \u001b[95m 0.8235  \u001b[0m | \u001b[95m 205.9   \u001b[0m | \u001b[95m 49.21   \u001b[0m | \u001b[95m 89.97   \u001b[0m | \u001b[95m 1.298e+0\u001b[0m |\n",
      "| \u001b[95m 6       \u001b[0m | \u001b[95m 0.8241  \u001b[0m | \u001b[95m 223.5   \u001b[0m | \u001b[95m 29.96   \u001b[0m | \u001b[95m 31.27   \u001b[0m | \u001b[95m 1.507e+0\u001b[0m |\n",
      "| \u001b[95m 9       \u001b[0m | \u001b[95m 0.8886  \u001b[0m | \u001b[95m 292.8   \u001b[0m | \u001b[95m 4.744   \u001b[0m | \u001b[95m 79.84   \u001b[0m | \u001b[95m 722.2   \u001b[0m |\n",
      "| \u001b[95m 11      \u001b[0m | \u001b[95m 0.9195  \u001b[0m | \u001b[95m 296.2   \u001b[0m | \u001b[95m 2.823   \u001b[0m | \u001b[95m 86.48   \u001b[0m | \u001b[95m 680.8   \u001b[0m |\n",
      "| \u001b[95m 14      \u001b[0m | \u001b[95m 0.9253  \u001b[0m | \u001b[95m 279.9   \u001b[0m | \u001b[95m 1.914   \u001b[0m | \u001b[95m 74.01   \u001b[0m | \u001b[95m 690.2   \u001b[0m |\n",
      "| \u001b[95m 33      \u001b[0m | \u001b[95m 0.9319  \u001b[0m | \u001b[95m 266.6   \u001b[0m | \u001b[95m 2.576   \u001b[0m | \u001b[95m 42.04   \u001b[0m | \u001b[95m 711.8   \u001b[0m |\n",
      "| \u001b[95m 34      \u001b[0m | \u001b[95m 0.937   \u001b[0m | \u001b[95m 252.3   \u001b[0m | \u001b[95m 1.919   \u001b[0m | \u001b[95m 32.72   \u001b[0m | \u001b[95m 710.9   \u001b[0m |\n",
      "| \u001b[95m 55      \u001b[0m | \u001b[95m 0.9435  \u001b[0m | \u001b[95m 284.2   \u001b[0m | \u001b[95m 1.867   \u001b[0m | \u001b[95m 18.1    \u001b[0m | \u001b[95m 735.4   \u001b[0m |\n",
      "| \u001b[95m 67      \u001b[0m | \u001b[95m 0.9529  \u001b[0m | \u001b[95m 232.6   \u001b[0m | \u001b[95m 1.17    \u001b[0m | \u001b[95m 9.229   \u001b[0m | \u001b[95m 653.0   \u001b[0m |\n",
      "| \u001b[95m 82      \u001b[0m | \u001b[95m 0.9554  \u001b[0m | \u001b[95m 237.0   \u001b[0m | \u001b[95m 1.04    \u001b[0m | \u001b[95m 6.038   \u001b[0m | \u001b[95m 693.4   \u001b[0m |\n",
      "| \u001b[95m 87      \u001b[0m | \u001b[95m 0.9592  \u001b[0m | \u001b[95m 244.1   \u001b[0m | \u001b[95m 1.79    \u001b[0m | \u001b[95m 2.572   \u001b[0m | \u001b[95m 655.6   \u001b[0m |\n",
      "| \u001b[95m 186     \u001b[0m | \u001b[95m 0.9606  \u001b[0m | \u001b[95m 252.0   \u001b[0m | \u001b[95m 1.437   \u001b[0m | \u001b[95m 3.23    \u001b[0m | \u001b[95m 670.5   \u001b[0m |\n",
      "=========================================================================\n",
      "{'target': 0.9606299212598425, 'params': {'max_depth': 252.01403383441206, 'min_samples_leaf': 1.4373934186814905, 'min_samples_split': 3.2300232863778655, 'n_estimators': 670.478401160318}}\n"
     ]
    }
   ],
   "source": [
    "pds = {'n_estimators': (10, 2000),\n",
    "       'max_depth': (1, 300),\n",
    "       'min_samples_split': (2, 100),\n",
    "       'min_samples_leaf': (1, 100)\n",
    "      }\n",
    "\n",
    "optimizer=BayesianOptimization(xtree_cv, pds, verbose=1, random_state=2022)    \n",
    "\n",
    "optimizer.maximize(init_points=10,  \n",
    "                   n_iter=300, \n",
    "                   acq='ei')   \n",
    "\n",
    "print(optimizer.max)"
   ]
  }
 ],
 "metadata": {
  "kernelspec": {
   "display_name": "Python 3.9.13 ('tensor')",
   "language": "python",
   "name": "python3"
  },
  "language_info": {
   "codemirror_mode": {
    "name": "ipython",
    "version": 3
   },
   "file_extension": ".py",
   "mimetype": "text/x-python",
   "name": "python",
   "nbconvert_exporter": "python",
   "pygments_lexer": "ipython3",
   "version": "3.9.13"
  },
  "orig_nbformat": 4,
  "vscode": {
   "interpreter": {
    "hash": "bd699eb6d5fcb2669355bec3373569763280361ac24ba8627a69002e71963a4c"
   }
  }
 },
 "nbformat": 4,
 "nbformat_minor": 2
}

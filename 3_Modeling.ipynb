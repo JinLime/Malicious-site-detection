{
 "cells": [
  {
   "cell_type": "code",
   "execution_count": 50,
   "metadata": {},
   "outputs": [],
   "source": [
    "import pandas as pd\n",
    "\n",
    "from sklearn.impute import KNNImputer\n",
    "\n",
    "from pycaret.classification import *\n",
    "from catboost import CatBoostClassifier\n",
    "from sklearn.ensemble import RandomForestClassifier\n",
    "from xgboost import XGBClassifier\n",
    "from lightgbm import LGBMClassifier\n",
    "from sklearn.ensemble import ExtraTreesClassifier\n",
    "\n",
    "from sklearn.ensemble import StackingClassifier\n",
    "from sklearn.ensemble import VotingClassifier\n",
    "\n",
    "import warnings\n",
    "warnings.filterwarnings(\"ignore\")"
   ]
  },
  {
   "cell_type": "code",
   "execution_count": 51,
   "metadata": {},
   "outputs": [],
   "source": [
    "train = pd.read_csv('train_dataset.csv')\n",
    "test = pd.read_csv('test_dataset_v01.csv')\n",
    "\n",
    "# 필요없는 열 제거\n",
    "drop_cols = [\"Unnamed: 0\", \"url_chinese_present\", \"html_num_tags('applet')\"]\n",
    "\n",
    "train.drop(drop_cols, axis=1, inplace=True)\n",
    "test.drop(drop_cols, axis=1, inplace = True)\n",
    "\n",
    "# benign(정상) -> 1, malicious(악성) 0 변경\n",
    "# XGboost 학습을 위해 -1이 아닌 0으로 변경\n",
    "train['Result_v1'] = train['Result_v1'].map({'benign': 1, 'malicious': 0})"
   ]
  },
  {
   "cell_type": "code",
   "execution_count": 52,
   "metadata": {},
   "outputs": [],
   "source": [
    "# train, test 데이터셋 결측치 처리\n",
    "imputer = KNNImputer(n_neighbors=9)\n",
    "imputer.fit(train)\n",
    "x = imputer.transform(train)\n",
    "train = pd.DataFrame(x, columns=train.columns, index=train.index)\n",
    "\n",
    "train_impute = train.drop('Result_v1', axis=1)\n",
    "imputer.fit(train_impute)\n",
    "x = imputer.transform(test)\n",
    "test = pd.DataFrame(x, columns=test.columns, index=test.index)"
   ]
  },
  {
   "cell_type": "code",
   "execution_count": 53,
   "metadata": {},
   "outputs": [],
   "source": [
    "# Target 설정\n",
    "target = 'Result_v1'\n",
    "\n",
    "# 데이터 분리\n",
    "X = train.drop(target, axis=1)\n",
    "y = train.loc[:, target]"
   ]
  },
  {
   "cell_type": "markdown",
   "metadata": {},
   "source": [
    "## <span style=\"color: hotpink\"> **1. 모델링(Modeling)** </span>\n",
    "- Pycaret\n",
    "- CatBoost\n",
    "- RandomForest\n",
    "- XGBoost\n",
    "- LGBM\n",
    "- ExtraTrees"
   ]
  },
  {
   "cell_type": "markdown",
   "metadata": {},
   "source": [
    "### <span style=\"color: skyblue\"> **Pycaret** </span>"
   ]
  },
  {
   "cell_type": "code",
   "execution_count": 21,
   "metadata": {},
   "outputs": [
    {
     "data": {
      "text/html": [
       "<style type=\"text/css\">\n",
       "</style>\n",
       "<table id=\"T_03be1\">\n",
       "  <thead>\n",
       "    <tr>\n",
       "      <th class=\"blank level0\" >&nbsp;</th>\n",
       "      <th id=\"T_03be1_level0_col0\" class=\"col_heading level0 col0\" >Description</th>\n",
       "      <th id=\"T_03be1_level0_col1\" class=\"col_heading level0 col1\" >Value</th>\n",
       "    </tr>\n",
       "  </thead>\n",
       "  <tbody>\n",
       "    <tr>\n",
       "      <th id=\"T_03be1_level0_row0\" class=\"row_heading level0 row0\" >0</th>\n",
       "      <td id=\"T_03be1_row0_col0\" class=\"data row0 col0\" >session_id</td>\n",
       "      <td id=\"T_03be1_row0_col1\" class=\"data row0 col1\" >8416</td>\n",
       "    </tr>\n",
       "    <tr>\n",
       "      <th id=\"T_03be1_level0_row1\" class=\"row_heading level0 row1\" >1</th>\n",
       "      <td id=\"T_03be1_row1_col0\" class=\"data row1 col0\" >Target</td>\n",
       "      <td id=\"T_03be1_row1_col1\" class=\"data row1 col1\" >Result_v1</td>\n",
       "    </tr>\n",
       "    <tr>\n",
       "      <th id=\"T_03be1_level0_row2\" class=\"row_heading level0 row2\" >2</th>\n",
       "      <td id=\"T_03be1_row2_col0\" class=\"data row2 col0\" >Target Type</td>\n",
       "      <td id=\"T_03be1_row2_col1\" class=\"data row2 col1\" >Binary</td>\n",
       "    </tr>\n",
       "    <tr>\n",
       "      <th id=\"T_03be1_level0_row3\" class=\"row_heading level0 row3\" >3</th>\n",
       "      <td id=\"T_03be1_row3_col0\" class=\"data row3 col0\" >Label Encoded</td>\n",
       "      <td id=\"T_03be1_row3_col1\" class=\"data row3 col1\" >0.0: 0, 1.0: 1</td>\n",
       "    </tr>\n",
       "    <tr>\n",
       "      <th id=\"T_03be1_level0_row4\" class=\"row_heading level0 row4\" >4</th>\n",
       "      <td id=\"T_03be1_row4_col0\" class=\"data row4 col0\" >Original Data</td>\n",
       "      <td id=\"T_03be1_row4_col1\" class=\"data row4 col1\" >(3664, 22)</td>\n",
       "    </tr>\n",
       "    <tr>\n",
       "      <th id=\"T_03be1_level0_row5\" class=\"row_heading level0 row5\" >5</th>\n",
       "      <td id=\"T_03be1_row5_col0\" class=\"data row5 col0\" >Missing Values</td>\n",
       "      <td id=\"T_03be1_row5_col1\" class=\"data row5 col1\" >False</td>\n",
       "    </tr>\n",
       "    <tr>\n",
       "      <th id=\"T_03be1_level0_row6\" class=\"row_heading level0 row6\" >6</th>\n",
       "      <td id=\"T_03be1_row6_col0\" class=\"data row6 col0\" >Numeric Features</td>\n",
       "      <td id=\"T_03be1_row6_col1\" class=\"data row6 col1\" >19</td>\n",
       "    </tr>\n",
       "    <tr>\n",
       "      <th id=\"T_03be1_level0_row7\" class=\"row_heading level0 row7\" >7</th>\n",
       "      <td id=\"T_03be1_row7_col0\" class=\"data row7 col0\" >Categorical Features</td>\n",
       "      <td id=\"T_03be1_row7_col1\" class=\"data row7 col1\" >2</td>\n",
       "    </tr>\n",
       "    <tr>\n",
       "      <th id=\"T_03be1_level0_row8\" class=\"row_heading level0 row8\" >8</th>\n",
       "      <td id=\"T_03be1_row8_col0\" class=\"data row8 col0\" >Transformed Train Set</td>\n",
       "      <td id=\"T_03be1_row8_col1\" class=\"data row8 col1\" >(3660, 21)</td>\n",
       "    </tr>\n",
       "    <tr>\n",
       "      <th id=\"T_03be1_level0_row9\" class=\"row_heading level0 row9\" >9</th>\n",
       "      <td id=\"T_03be1_row9_col0\" class=\"data row9 col0\" >Transformed Test Set</td>\n",
       "      <td id=\"T_03be1_row9_col1\" class=\"data row9 col1\" >(4, 21)</td>\n",
       "    </tr>\n",
       "    <tr>\n",
       "      <th id=\"T_03be1_level0_row10\" class=\"row_heading level0 row10\" >10</th>\n",
       "      <td id=\"T_03be1_row10_col0\" class=\"data row10 col0\" >Shuffle Train-Test</td>\n",
       "      <td id=\"T_03be1_row10_col1\" class=\"data row10 col1\" >True</td>\n",
       "    </tr>\n",
       "    <tr>\n",
       "      <th id=\"T_03be1_level0_row11\" class=\"row_heading level0 row11\" >11</th>\n",
       "      <td id=\"T_03be1_row11_col0\" class=\"data row11 col0\" >Stratify Train-Test</td>\n",
       "      <td id=\"T_03be1_row11_col1\" class=\"data row11 col1\" >False</td>\n",
       "    </tr>\n",
       "    <tr>\n",
       "      <th id=\"T_03be1_level0_row12\" class=\"row_heading level0 row12\" >12</th>\n",
       "      <td id=\"T_03be1_row12_col0\" class=\"data row12 col0\" >Fold Generator</td>\n",
       "      <td id=\"T_03be1_row12_col1\" class=\"data row12 col1\" >StratifiedKFold</td>\n",
       "    </tr>\n",
       "    <tr>\n",
       "      <th id=\"T_03be1_level0_row13\" class=\"row_heading level0 row13\" >13</th>\n",
       "      <td id=\"T_03be1_row13_col0\" class=\"data row13 col0\" >Fold Number</td>\n",
       "      <td id=\"T_03be1_row13_col1\" class=\"data row13 col1\" >10</td>\n",
       "    </tr>\n",
       "    <tr>\n",
       "      <th id=\"T_03be1_level0_row14\" class=\"row_heading level0 row14\" >14</th>\n",
       "      <td id=\"T_03be1_row14_col0\" class=\"data row14 col0\" >CPU Jobs</td>\n",
       "      <td id=\"T_03be1_row14_col1\" class=\"data row14 col1\" >-1</td>\n",
       "    </tr>\n",
       "    <tr>\n",
       "      <th id=\"T_03be1_level0_row15\" class=\"row_heading level0 row15\" >15</th>\n",
       "      <td id=\"T_03be1_row15_col0\" class=\"data row15 col0\" >Use GPU</td>\n",
       "      <td id=\"T_03be1_row15_col1\" class=\"data row15 col1\" >False</td>\n",
       "    </tr>\n",
       "    <tr>\n",
       "      <th id=\"T_03be1_level0_row16\" class=\"row_heading level0 row16\" >16</th>\n",
       "      <td id=\"T_03be1_row16_col0\" class=\"data row16 col0\" >Log Experiment</td>\n",
       "      <td id=\"T_03be1_row16_col1\" class=\"data row16 col1\" >False</td>\n",
       "    </tr>\n",
       "    <tr>\n",
       "      <th id=\"T_03be1_level0_row17\" class=\"row_heading level0 row17\" >17</th>\n",
       "      <td id=\"T_03be1_row17_col0\" class=\"data row17 col0\" >Experiment Name</td>\n",
       "      <td id=\"T_03be1_row17_col1\" class=\"data row17 col1\" >clf-default-name</td>\n",
       "    </tr>\n",
       "    <tr>\n",
       "      <th id=\"T_03be1_level0_row18\" class=\"row_heading level0 row18\" >18</th>\n",
       "      <td id=\"T_03be1_row18_col0\" class=\"data row18 col0\" >USI</td>\n",
       "      <td id=\"T_03be1_row18_col1\" class=\"data row18 col1\" >7b5b</td>\n",
       "    </tr>\n",
       "    <tr>\n",
       "      <th id=\"T_03be1_level0_row19\" class=\"row_heading level0 row19\" >19</th>\n",
       "      <td id=\"T_03be1_row19_col0\" class=\"data row19 col0\" >Fix Imbalance</td>\n",
       "      <td id=\"T_03be1_row19_col1\" class=\"data row19 col1\" >False</td>\n",
       "    </tr>\n",
       "    <tr>\n",
       "      <th id=\"T_03be1_level0_row20\" class=\"row_heading level0 row20\" >20</th>\n",
       "      <td id=\"T_03be1_row20_col0\" class=\"data row20 col0\" >Fix Imbalance Method</td>\n",
       "      <td id=\"T_03be1_row20_col1\" class=\"data row20 col1\" >SMOTE</td>\n",
       "    </tr>\n",
       "  </tbody>\n",
       "</table>\n"
      ],
      "text/plain": [
       "<pandas.io.formats.style.Styler at 0x14a821fd0>"
      ]
     },
     "metadata": {},
     "output_type": "display_data"
    }
   ],
   "source": [
    "setup_model = setup(train, \n",
    "                    target='Result_v1',\n",
    "                    preprocess=False,   # True로 설정되면, 자체적인 Feature Engineering을 추가로 진행해 Predict가 불가능함\n",
    "                    train_size=0.999,  \n",
    "                    silent=True)   "
   ]
  },
  {
   "cell_type": "code",
   "execution_count": 22,
   "metadata": {},
   "outputs": [
    {
     "data": {
      "text/html": [
       "<style type=\"text/css\">\n",
       "#T_7babc th {\n",
       "  text-align: left;\n",
       "}\n",
       "#T_7babc_row0_col0, #T_7babc_row0_col3, #T_7babc_row1_col0, #T_7babc_row1_col1, #T_7babc_row1_col2, #T_7babc_row1_col3, #T_7babc_row1_col4, #T_7babc_row1_col5, #T_7babc_row1_col6, #T_7babc_row1_col7, #T_7babc_row2_col0, #T_7babc_row2_col1, #T_7babc_row2_col2, #T_7babc_row2_col3, #T_7babc_row2_col4, #T_7babc_row2_col5, #T_7babc_row2_col6, #T_7babc_row2_col7, #T_7babc_row3_col0, #T_7babc_row3_col1, #T_7babc_row3_col2, #T_7babc_row3_col3, #T_7babc_row3_col4, #T_7babc_row3_col5, #T_7babc_row3_col6, #T_7babc_row3_col7, #T_7babc_row4_col0, #T_7babc_row4_col1, #T_7babc_row4_col2, #T_7babc_row4_col3, #T_7babc_row4_col4, #T_7babc_row4_col5, #T_7babc_row4_col6, #T_7babc_row4_col7, #T_7babc_row5_col0, #T_7babc_row5_col1, #T_7babc_row5_col2, #T_7babc_row5_col3, #T_7babc_row5_col4, #T_7babc_row5_col5, #T_7babc_row5_col6, #T_7babc_row5_col7, #T_7babc_row6_col0, #T_7babc_row6_col1, #T_7babc_row6_col2, #T_7babc_row6_col3, #T_7babc_row6_col4, #T_7babc_row6_col5, #T_7babc_row6_col6, #T_7babc_row6_col7, #T_7babc_row7_col0, #T_7babc_row7_col1, #T_7babc_row7_col2, #T_7babc_row7_col3, #T_7babc_row7_col4, #T_7babc_row7_col5, #T_7babc_row7_col6, #T_7babc_row7_col7, #T_7babc_row8_col0, #T_7babc_row8_col1, #T_7babc_row8_col2, #T_7babc_row8_col3, #T_7babc_row8_col4, #T_7babc_row8_col5, #T_7babc_row8_col6, #T_7babc_row8_col7, #T_7babc_row9_col0, #T_7babc_row9_col1, #T_7babc_row9_col2, #T_7babc_row9_col3, #T_7babc_row9_col4, #T_7babc_row9_col5, #T_7babc_row9_col6, #T_7babc_row9_col7, #T_7babc_row10_col0, #T_7babc_row10_col1, #T_7babc_row10_col2, #T_7babc_row10_col3, #T_7babc_row10_col4, #T_7babc_row10_col5, #T_7babc_row10_col6, #T_7babc_row10_col7, #T_7babc_row11_col0, #T_7babc_row11_col1, #T_7babc_row11_col2, #T_7babc_row11_col3, #T_7babc_row11_col4, #T_7babc_row11_col5, #T_7babc_row11_col6, #T_7babc_row11_col7, #T_7babc_row12_col0, #T_7babc_row12_col1, #T_7babc_row12_col2, #T_7babc_row12_col4, #T_7babc_row12_col5, #T_7babc_row12_col6, #T_7babc_row12_col7 {\n",
       "  text-align: left;\n",
       "}\n",
       "#T_7babc_row0_col1, #T_7babc_row0_col2, #T_7babc_row0_col4, #T_7babc_row0_col5, #T_7babc_row0_col6, #T_7babc_row0_col7, #T_7babc_row12_col3 {\n",
       "  text-align: left;\n",
       "  background-color: yellow;\n",
       "}\n",
       "#T_7babc_row0_col8, #T_7babc_row1_col8, #T_7babc_row2_col8, #T_7babc_row3_col8, #T_7babc_row4_col8, #T_7babc_row5_col8, #T_7babc_row6_col8, #T_7babc_row7_col8, #T_7babc_row8_col8, #T_7babc_row9_col8, #T_7babc_row10_col8, #T_7babc_row11_col8 {\n",
       "  text-align: left;\n",
       "  background-color: lightgrey;\n",
       "}\n",
       "#T_7babc_row12_col8 {\n",
       "  text-align: left;\n",
       "  background-color: yellow;\n",
       "  background-color: lightgrey;\n",
       "}\n",
       "</style>\n",
       "<table id=\"T_7babc\">\n",
       "  <thead>\n",
       "    <tr>\n",
       "      <th class=\"blank level0\" >&nbsp;</th>\n",
       "      <th id=\"T_7babc_level0_col0\" class=\"col_heading level0 col0\" >Model</th>\n",
       "      <th id=\"T_7babc_level0_col1\" class=\"col_heading level0 col1\" >Accuracy</th>\n",
       "      <th id=\"T_7babc_level0_col2\" class=\"col_heading level0 col2\" >AUC</th>\n",
       "      <th id=\"T_7babc_level0_col3\" class=\"col_heading level0 col3\" >Recall</th>\n",
       "      <th id=\"T_7babc_level0_col4\" class=\"col_heading level0 col4\" >Prec.</th>\n",
       "      <th id=\"T_7babc_level0_col5\" class=\"col_heading level0 col5\" >F1</th>\n",
       "      <th id=\"T_7babc_level0_col6\" class=\"col_heading level0 col6\" >Kappa</th>\n",
       "      <th id=\"T_7babc_level0_col7\" class=\"col_heading level0 col7\" >MCC</th>\n",
       "      <th id=\"T_7babc_level0_col8\" class=\"col_heading level0 col8\" >TT (Sec)</th>\n",
       "    </tr>\n",
       "  </thead>\n",
       "  <tbody>\n",
       "    <tr>\n",
       "      <th id=\"T_7babc_level0_row0\" class=\"row_heading level0 row0\" >rf</th>\n",
       "      <td id=\"T_7babc_row0_col0\" class=\"data row0 col0\" >Random Forest Classifier</td>\n",
       "      <td id=\"T_7babc_row0_col1\" class=\"data row0 col1\" >0.9653</td>\n",
       "      <td id=\"T_7babc_row0_col2\" class=\"data row0 col2\" >0.9949</td>\n",
       "      <td id=\"T_7babc_row0_col3\" class=\"data row0 col3\" >0.9644</td>\n",
       "      <td id=\"T_7babc_row0_col4\" class=\"data row0 col4\" >0.9672</td>\n",
       "      <td id=\"T_7babc_row0_col5\" class=\"data row0 col5\" >0.9657</td>\n",
       "      <td id=\"T_7babc_row0_col6\" class=\"data row0 col6\" >0.9306</td>\n",
       "      <td id=\"T_7babc_row0_col7\" class=\"data row0 col7\" >0.9307</td>\n",
       "      <td id=\"T_7babc_row0_col8\" class=\"data row0 col8\" >0.0540</td>\n",
       "    </tr>\n",
       "    <tr>\n",
       "      <th id=\"T_7babc_level0_row1\" class=\"row_heading level0 row1\" >catboost</th>\n",
       "      <td id=\"T_7babc_row1_col0\" class=\"data row1 col0\" >CatBoost Classifier</td>\n",
       "      <td id=\"T_7babc_row1_col1\" class=\"data row1 col1\" >0.9634</td>\n",
       "      <td id=\"T_7babc_row1_col2\" class=\"data row1 col2\" >0.9944</td>\n",
       "      <td id=\"T_7babc_row1_col3\" class=\"data row1 col3\" >0.9623</td>\n",
       "      <td id=\"T_7babc_row1_col4\" class=\"data row1 col4\" >0.9655</td>\n",
       "      <td id=\"T_7babc_row1_col5\" class=\"data row1 col5\" >0.9638</td>\n",
       "      <td id=\"T_7babc_row1_col6\" class=\"data row1 col6\" >0.9268</td>\n",
       "      <td id=\"T_7babc_row1_col7\" class=\"data row1 col7\" >0.9269</td>\n",
       "      <td id=\"T_7babc_row1_col8\" class=\"data row1 col8\" >0.4970</td>\n",
       "    </tr>\n",
       "    <tr>\n",
       "      <th id=\"T_7babc_level0_row2\" class=\"row_heading level0 row2\" >et</th>\n",
       "      <td id=\"T_7babc_row2_col0\" class=\"data row2 col0\" >Extra Trees Classifier</td>\n",
       "      <td id=\"T_7babc_row2_col1\" class=\"data row2 col1\" >0.9566</td>\n",
       "      <td id=\"T_7babc_row2_col2\" class=\"data row2 col2\" >0.9934</td>\n",
       "      <td id=\"T_7babc_row2_col3\" class=\"data row2 col3\" >0.9596</td>\n",
       "      <td id=\"T_7babc_row2_col4\" class=\"data row2 col4\" >0.9553</td>\n",
       "      <td id=\"T_7babc_row2_col5\" class=\"data row2 col5\" >0.9573</td>\n",
       "      <td id=\"T_7babc_row2_col6\" class=\"data row2 col6\" >0.9131</td>\n",
       "      <td id=\"T_7babc_row2_col7\" class=\"data row2 col7\" >0.9134</td>\n",
       "      <td id=\"T_7babc_row2_col8\" class=\"data row2 col8\" >0.0500</td>\n",
       "    </tr>\n",
       "    <tr>\n",
       "      <th id=\"T_7babc_level0_row3\" class=\"row_heading level0 row3\" >gbc</th>\n",
       "      <td id=\"T_7babc_row3_col0\" class=\"data row3 col0\" >Gradient Boosting Classifier</td>\n",
       "      <td id=\"T_7babc_row3_col1\" class=\"data row3 col1\" >0.9484</td>\n",
       "      <td id=\"T_7babc_row3_col2\" class=\"data row3 col2\" >0.9886</td>\n",
       "      <td id=\"T_7babc_row3_col3\" class=\"data row3 col3\" >0.9450</td>\n",
       "      <td id=\"T_7babc_row3_col4\" class=\"data row3 col4\" >0.9529</td>\n",
       "      <td id=\"T_7babc_row3_col5\" class=\"data row3 col5\" >0.9489</td>\n",
       "      <td id=\"T_7babc_row3_col6\" class=\"data row3 col6\" >0.8967</td>\n",
       "      <td id=\"T_7babc_row3_col7\" class=\"data row3 col7\" >0.8969</td>\n",
       "      <td id=\"T_7babc_row3_col8\" class=\"data row3 col8\" >0.0800</td>\n",
       "    </tr>\n",
       "    <tr>\n",
       "      <th id=\"T_7babc_level0_row4\" class=\"row_heading level0 row4\" >dt</th>\n",
       "      <td id=\"T_7babc_row4_col0\" class=\"data row4 col0\" >Decision Tree Classifier</td>\n",
       "      <td id=\"T_7babc_row4_col1\" class=\"data row4 col1\" >0.9423</td>\n",
       "      <td id=\"T_7babc_row4_col2\" class=\"data row4 col2\" >0.9425</td>\n",
       "      <td id=\"T_7babc_row4_col3\" class=\"data row4 col3\" >0.9343</td>\n",
       "      <td id=\"T_7babc_row4_col4\" class=\"data row4 col4\" >0.9514</td>\n",
       "      <td id=\"T_7babc_row4_col5\" class=\"data row4 col5\" >0.9425</td>\n",
       "      <td id=\"T_7babc_row4_col6\" class=\"data row4 col6\" >0.8847</td>\n",
       "      <td id=\"T_7babc_row4_col7\" class=\"data row4 col7\" >0.8852</td>\n",
       "      <td id=\"T_7babc_row4_col8\" class=\"data row4 col8\" >0.0050</td>\n",
       "    </tr>\n",
       "    <tr>\n",
       "      <th id=\"T_7babc_level0_row5\" class=\"row_heading level0 row5\" >ada</th>\n",
       "      <td id=\"T_7babc_row5_col0\" class=\"data row5 col0\" >Ada Boost Classifier</td>\n",
       "      <td id=\"T_7babc_row5_col1\" class=\"data row5 col1\" >0.9292</td>\n",
       "      <td id=\"T_7babc_row5_col2\" class=\"data row5 col2\" >0.9791</td>\n",
       "      <td id=\"T_7babc_row5_col3\" class=\"data row5 col3\" >0.9267</td>\n",
       "      <td id=\"T_7babc_row5_col4\" class=\"data row5 col4\" >0.9337</td>\n",
       "      <td id=\"T_7babc_row5_col5\" class=\"data row5 col5\" >0.9300</td>\n",
       "      <td id=\"T_7babc_row5_col6\" class=\"data row5 col6\" >0.8585</td>\n",
       "      <td id=\"T_7babc_row5_col7\" class=\"data row5 col7\" >0.8588</td>\n",
       "      <td id=\"T_7babc_row5_col8\" class=\"data row5 col8\" >0.0540</td>\n",
       "    </tr>\n",
       "    <tr>\n",
       "      <th id=\"T_7babc_level0_row6\" class=\"row_heading level0 row6\" >knn</th>\n",
       "      <td id=\"T_7babc_row6_col0\" class=\"data row6 col0\" >K Neighbors Classifier</td>\n",
       "      <td id=\"T_7babc_row6_col1\" class=\"data row6 col1\" >0.8842</td>\n",
       "      <td id=\"T_7babc_row6_col2\" class=\"data row6 col2\" >0.9474</td>\n",
       "      <td id=\"T_7babc_row6_col3\" class=\"data row6 col3\" >0.9008</td>\n",
       "      <td id=\"T_7babc_row6_col4\" class=\"data row6 col4\" >0.8751</td>\n",
       "      <td id=\"T_7babc_row6_col5\" class=\"data row6 col5\" >0.8875</td>\n",
       "      <td id=\"T_7babc_row6_col6\" class=\"data row6 col6\" >0.7681</td>\n",
       "      <td id=\"T_7babc_row6_col7\" class=\"data row6 col7\" >0.7691</td>\n",
       "      <td id=\"T_7babc_row6_col8\" class=\"data row6 col8\" >0.0070</td>\n",
       "    </tr>\n",
       "    <tr>\n",
       "      <th id=\"T_7babc_level0_row7\" class=\"row_heading level0 row7\" >ridge</th>\n",
       "      <td id=\"T_7babc_row7_col0\" class=\"data row7 col0\" >Ridge Classifier</td>\n",
       "      <td id=\"T_7babc_row7_col1\" class=\"data row7 col1\" >0.7943</td>\n",
       "      <td id=\"T_7babc_row7_col2\" class=\"data row7 col2\" >0.0000</td>\n",
       "      <td id=\"T_7babc_row7_col3\" class=\"data row7 col3\" >0.8917</td>\n",
       "      <td id=\"T_7babc_row7_col4\" class=\"data row7 col4\" >0.7501</td>\n",
       "      <td id=\"T_7babc_row7_col5\" class=\"data row7 col5\" >0.8145</td>\n",
       "      <td id=\"T_7babc_row7_col6\" class=\"data row7 col6\" >0.5873</td>\n",
       "      <td id=\"T_7babc_row7_col7\" class=\"data row7 col7\" >0.5991</td>\n",
       "      <td id=\"T_7babc_row7_col8\" class=\"data row7 col8\" >0.0030</td>\n",
       "    </tr>\n",
       "    <tr>\n",
       "      <th id=\"T_7babc_level0_row8\" class=\"row_heading level0 row8\" >lda</th>\n",
       "      <td id=\"T_7babc_row8_col0\" class=\"data row8 col0\" >Linear Discriminant Analysis</td>\n",
       "      <td id=\"T_7babc_row8_col1\" class=\"data row8 col1\" >0.7937</td>\n",
       "      <td id=\"T_7babc_row8_col2\" class=\"data row8 col2\" >0.8728</td>\n",
       "      <td id=\"T_7babc_row8_col3\" class=\"data row8 col3\" >0.8906</td>\n",
       "      <td id=\"T_7babc_row8_col4\" class=\"data row8 col4\" >0.7499</td>\n",
       "      <td id=\"T_7babc_row8_col5\" class=\"data row8 col5\" >0.8140</td>\n",
       "      <td id=\"T_7babc_row8_col6\" class=\"data row8 col6\" >0.5862</td>\n",
       "      <td id=\"T_7babc_row8_col7\" class=\"data row8 col7\" >0.5979</td>\n",
       "      <td id=\"T_7babc_row8_col8\" class=\"data row8 col8\" >0.0040</td>\n",
       "    </tr>\n",
       "    <tr>\n",
       "      <th id=\"T_7babc_level0_row9\" class=\"row_heading level0 row9\" >svm</th>\n",
       "      <td id=\"T_7babc_row9_col0\" class=\"data row9 col0\" >SVM - Linear Kernel</td>\n",
       "      <td id=\"T_7babc_row9_col1\" class=\"data row9 col1\" >0.7336</td>\n",
       "      <td id=\"T_7babc_row9_col2\" class=\"data row9 col2\" >0.0000</td>\n",
       "      <td id=\"T_7babc_row9_col3\" class=\"data row9 col3\" >0.7800</td>\n",
       "      <td id=\"T_7babc_row9_col4\" class=\"data row9 col4\" >0.7508</td>\n",
       "      <td id=\"T_7babc_row9_col5\" class=\"data row9 col5\" >0.7307</td>\n",
       "      <td id=\"T_7babc_row9_col6\" class=\"data row9 col6\" >0.4660</td>\n",
       "      <td id=\"T_7babc_row9_col7\" class=\"data row9 col7\" >0.4879</td>\n",
       "      <td id=\"T_7babc_row9_col8\" class=\"data row9 col8\" >0.0040</td>\n",
       "    </tr>\n",
       "    <tr>\n",
       "      <th id=\"T_7babc_level0_row10\" class=\"row_heading level0 row10\" >nb</th>\n",
       "      <td id=\"T_7babc_row10_col0\" class=\"data row10 col0\" >Naive Bayes</td>\n",
       "      <td id=\"T_7babc_row10_col1\" class=\"data row10 col1\" >0.7150</td>\n",
       "      <td id=\"T_7babc_row10_col2\" class=\"data row10 col2\" >0.8349</td>\n",
       "      <td id=\"T_7babc_row10_col3\" class=\"data row10 col3\" >0.9499</td>\n",
       "      <td id=\"T_7babc_row10_col4\" class=\"data row10 col4\" >0.6504</td>\n",
       "      <td id=\"T_7babc_row10_col5\" class=\"data row10 col5\" >0.7719</td>\n",
       "      <td id=\"T_7babc_row10_col6\" class=\"data row10 col6\" >0.4261</td>\n",
       "      <td id=\"T_7babc_row10_col7\" class=\"data row10 col7\" >0.4834</td>\n",
       "      <td id=\"T_7babc_row10_col8\" class=\"data row10 col8\" >0.0050</td>\n",
       "    </tr>\n",
       "    <tr>\n",
       "      <th id=\"T_7babc_level0_row11\" class=\"row_heading level0 row11\" >qda</th>\n",
       "      <td id=\"T_7babc_row11_col0\" class=\"data row11 col0\" >Quadratic Discriminant Analysis</td>\n",
       "      <td id=\"T_7babc_row11_col1\" class=\"data row11 col1\" >0.5689</td>\n",
       "      <td id=\"T_7babc_row11_col2\" class=\"data row11 col2\" >0.6048</td>\n",
       "      <td id=\"T_7babc_row11_col3\" class=\"data row11 col3\" >0.6538</td>\n",
       "      <td id=\"T_7babc_row11_col4\" class=\"data row11 col4\" >0.6138</td>\n",
       "      <td id=\"T_7babc_row11_col5\" class=\"data row11 col5\" >0.5345</td>\n",
       "      <td id=\"T_7babc_row11_col6\" class=\"data row11 col6\" >0.1365</td>\n",
       "      <td id=\"T_7babc_row11_col7\" class=\"data row11 col7\" >0.2032</td>\n",
       "      <td id=\"T_7babc_row11_col8\" class=\"data row11 col8\" >0.0050</td>\n",
       "    </tr>\n",
       "    <tr>\n",
       "      <th id=\"T_7babc_level0_row12\" class=\"row_heading level0 row12\" >dummy</th>\n",
       "      <td id=\"T_7babc_row12_col0\" class=\"data row12 col0\" >Dummy Classifier</td>\n",
       "      <td id=\"T_7babc_row12_col1\" class=\"data row12 col1\" >0.5071</td>\n",
       "      <td id=\"T_7babc_row12_col2\" class=\"data row12 col2\" >0.5000</td>\n",
       "      <td id=\"T_7babc_row12_col3\" class=\"data row12 col3\" >1.0000</td>\n",
       "      <td id=\"T_7babc_row12_col4\" class=\"data row12 col4\" >0.5071</td>\n",
       "      <td id=\"T_7babc_row12_col5\" class=\"data row12 col5\" >0.6730</td>\n",
       "      <td id=\"T_7babc_row12_col6\" class=\"data row12 col6\" >0.0000</td>\n",
       "      <td id=\"T_7babc_row12_col7\" class=\"data row12 col7\" >0.0000</td>\n",
       "      <td id=\"T_7babc_row12_col8\" class=\"data row12 col8\" >0.0020</td>\n",
       "    </tr>\n",
       "  </tbody>\n",
       "</table>\n"
      ],
      "text/plain": [
       "<pandas.io.formats.style.Styler at 0x14d91c460>"
      ]
     },
     "metadata": {},
     "output_type": "display_data"
    }
   ],
   "source": [
    "top5 = compare_models(n_select=5, sort='Accuracy')"
   ]
  },
  {
   "cell_type": "code",
   "execution_count": 23,
   "metadata": {},
   "outputs": [
    {
     "data": {
      "text/html": [
       "<style type=\"text/css\">\n",
       "#T_31ec9_row10_col0, #T_31ec9_row10_col1, #T_31ec9_row10_col2, #T_31ec9_row10_col3, #T_31ec9_row10_col4, #T_31ec9_row10_col5, #T_31ec9_row10_col6 {\n",
       "  background: yellow;\n",
       "}\n",
       "</style>\n",
       "<table id=\"T_31ec9\">\n",
       "  <thead>\n",
       "    <tr>\n",
       "      <th class=\"blank level0\" >&nbsp;</th>\n",
       "      <th id=\"T_31ec9_level0_col0\" class=\"col_heading level0 col0\" >Accuracy</th>\n",
       "      <th id=\"T_31ec9_level0_col1\" class=\"col_heading level0 col1\" >AUC</th>\n",
       "      <th id=\"T_31ec9_level0_col2\" class=\"col_heading level0 col2\" >Recall</th>\n",
       "      <th id=\"T_31ec9_level0_col3\" class=\"col_heading level0 col3\" >Prec.</th>\n",
       "      <th id=\"T_31ec9_level0_col4\" class=\"col_heading level0 col4\" >F1</th>\n",
       "      <th id=\"T_31ec9_level0_col5\" class=\"col_heading level0 col5\" >Kappa</th>\n",
       "      <th id=\"T_31ec9_level0_col6\" class=\"col_heading level0 col6\" >MCC</th>\n",
       "    </tr>\n",
       "    <tr>\n",
       "      <th class=\"index_name level0\" >Fold</th>\n",
       "      <th class=\"blank col0\" >&nbsp;</th>\n",
       "      <th class=\"blank col1\" >&nbsp;</th>\n",
       "      <th class=\"blank col2\" >&nbsp;</th>\n",
       "      <th class=\"blank col3\" >&nbsp;</th>\n",
       "      <th class=\"blank col4\" >&nbsp;</th>\n",
       "      <th class=\"blank col5\" >&nbsp;</th>\n",
       "      <th class=\"blank col6\" >&nbsp;</th>\n",
       "    </tr>\n",
       "  </thead>\n",
       "  <tbody>\n",
       "    <tr>\n",
       "      <th id=\"T_31ec9_level0_row0\" class=\"row_heading level0 row0\" >0</th>\n",
       "      <td id=\"T_31ec9_row0_col0\" class=\"data row0 col0\" >0.9563</td>\n",
       "      <td id=\"T_31ec9_row0_col1\" class=\"data row0 col1\" >0.9698</td>\n",
       "      <td id=\"T_31ec9_row0_col2\" class=\"data row0 col2\" >0.9462</td>\n",
       "      <td id=\"T_31ec9_row0_col3\" class=\"data row0 col3\" >0.9670</td>\n",
       "      <td id=\"T_31ec9_row0_col4\" class=\"data row0 col4\" >0.9565</td>\n",
       "      <td id=\"T_31ec9_row0_col5\" class=\"data row0 col5\" >0.9126</td>\n",
       "      <td id=\"T_31ec9_row0_col6\" class=\"data row0 col6\" >0.9128</td>\n",
       "    </tr>\n",
       "    <tr>\n",
       "      <th id=\"T_31ec9_level0_row1\" class=\"row_heading level0 row1\" >1</th>\n",
       "      <td id=\"T_31ec9_row1_col0\" class=\"data row1 col0\" >0.9372</td>\n",
       "      <td id=\"T_31ec9_row1_col1\" class=\"data row1 col1\" >0.9510</td>\n",
       "      <td id=\"T_31ec9_row1_col2\" class=\"data row1 col2\" >0.9677</td>\n",
       "      <td id=\"T_31ec9_row1_col3\" class=\"data row1 col3\" >0.9137</td>\n",
       "      <td id=\"T_31ec9_row1_col4\" class=\"data row1 col4\" >0.9399</td>\n",
       "      <td id=\"T_31ec9_row1_col5\" class=\"data row1 col5\" >0.8742</td>\n",
       "      <td id=\"T_31ec9_row1_col6\" class=\"data row1 col6\" >0.8757</td>\n",
       "    </tr>\n",
       "    <tr>\n",
       "      <th id=\"T_31ec9_level0_row2\" class=\"row_heading level0 row2\" >2</th>\n",
       "      <td id=\"T_31ec9_row2_col0\" class=\"data row2 col0\" >0.9372</td>\n",
       "      <td id=\"T_31ec9_row2_col1\" class=\"data row2 col1\" >0.9500</td>\n",
       "      <td id=\"T_31ec9_row2_col2\" class=\"data row2 col2\" >0.9409</td>\n",
       "      <td id=\"T_31ec9_row2_col3\" class=\"data row2 col3\" >0.9358</td>\n",
       "      <td id=\"T_31ec9_row2_col4\" class=\"data row2 col4\" >0.9383</td>\n",
       "      <td id=\"T_31ec9_row2_col5\" class=\"data row2 col5\" >0.8743</td>\n",
       "      <td id=\"T_31ec9_row2_col6\" class=\"data row2 col6\" >0.8743</td>\n",
       "    </tr>\n",
       "    <tr>\n",
       "      <th id=\"T_31ec9_level0_row3\" class=\"row_heading level0 row3\" >3</th>\n",
       "      <td id=\"T_31ec9_row3_col0\" class=\"data row3 col0\" >0.9399</td>\n",
       "      <td id=\"T_31ec9_row3_col1\" class=\"data row3 col1\" >0.9615</td>\n",
       "      <td id=\"T_31ec9_row3_col2\" class=\"data row3 col2\" >0.9086</td>\n",
       "      <td id=\"T_31ec9_row3_col3\" class=\"data row3 col3\" >0.9713</td>\n",
       "      <td id=\"T_31ec9_row3_col4\" class=\"data row3 col4\" >0.9389</td>\n",
       "      <td id=\"T_31ec9_row3_col5\" class=\"data row3 col5\" >0.8799</td>\n",
       "      <td id=\"T_31ec9_row3_col6\" class=\"data row3 col6\" >0.8818</td>\n",
       "    </tr>\n",
       "    <tr>\n",
       "      <th id=\"T_31ec9_level0_row4\" class=\"row_heading level0 row4\" >4</th>\n",
       "      <td id=\"T_31ec9_row4_col0\" class=\"data row4 col0\" >0.9399</td>\n",
       "      <td id=\"T_31ec9_row4_col1\" class=\"data row4 col1\" >0.9676</td>\n",
       "      <td id=\"T_31ec9_row4_col2\" class=\"data row4 col2\" >0.9355</td>\n",
       "      <td id=\"T_31ec9_row4_col3\" class=\"data row4 col3\" >0.9457</td>\n",
       "      <td id=\"T_31ec9_row4_col4\" class=\"data row4 col4\" >0.9405</td>\n",
       "      <td id=\"T_31ec9_row4_col5\" class=\"data row4 col5\" >0.8798</td>\n",
       "      <td id=\"T_31ec9_row4_col6\" class=\"data row4 col6\" >0.8798</td>\n",
       "    </tr>\n",
       "    <tr>\n",
       "      <th id=\"T_31ec9_level0_row5\" class=\"row_heading level0 row5\" >5</th>\n",
       "      <td id=\"T_31ec9_row5_col0\" class=\"data row5 col0\" >0.9290</td>\n",
       "      <td id=\"T_31ec9_row5_col1\" class=\"data row5 col1\" >0.9574</td>\n",
       "      <td id=\"T_31ec9_row5_col2\" class=\"data row5 col2\" >0.9301</td>\n",
       "      <td id=\"T_31ec9_row5_col3\" class=\"data row5 col3\" >0.9301</td>\n",
       "      <td id=\"T_31ec9_row5_col4\" class=\"data row5 col4\" >0.9301</td>\n",
       "      <td id=\"T_31ec9_row5_col5\" class=\"data row5 col5\" >0.8579</td>\n",
       "      <td id=\"T_31ec9_row5_col6\" class=\"data row5 col6\" >0.8579</td>\n",
       "    </tr>\n",
       "    <tr>\n",
       "      <th id=\"T_31ec9_level0_row6\" class=\"row_heading level0 row6\" >6</th>\n",
       "      <td id=\"T_31ec9_row6_col0\" class=\"data row6 col0\" >0.9262</td>\n",
       "      <td id=\"T_31ec9_row6_col1\" class=\"data row6 col1\" >0.9449</td>\n",
       "      <td id=\"T_31ec9_row6_col2\" class=\"data row6 col2\" >0.9135</td>\n",
       "      <td id=\"T_31ec9_row6_col3\" class=\"data row6 col3\" >0.9389</td>\n",
       "      <td id=\"T_31ec9_row6_col4\" class=\"data row6 col4\" >0.9260</td>\n",
       "      <td id=\"T_31ec9_row6_col5\" class=\"data row6 col5\" >0.8525</td>\n",
       "      <td id=\"T_31ec9_row6_col6\" class=\"data row6 col6\" >0.8528</td>\n",
       "    </tr>\n",
       "    <tr>\n",
       "      <th id=\"T_31ec9_level0_row7\" class=\"row_heading level0 row7\" >7</th>\n",
       "      <td id=\"T_31ec9_row7_col0\" class=\"data row7 col0\" >0.9153</td>\n",
       "      <td id=\"T_31ec9_row7_col1\" class=\"data row7 col1\" >0.9387</td>\n",
       "      <td id=\"T_31ec9_row7_col2\" class=\"data row7 col2\" >0.9189</td>\n",
       "      <td id=\"T_31ec9_row7_col3\" class=\"data row7 col3\" >0.9140</td>\n",
       "      <td id=\"T_31ec9_row7_col4\" class=\"data row7 col4\" >0.9164</td>\n",
       "      <td id=\"T_31ec9_row7_col5\" class=\"data row7 col5\" >0.8306</td>\n",
       "      <td id=\"T_31ec9_row7_col6\" class=\"data row7 col6\" >0.8306</td>\n",
       "    </tr>\n",
       "    <tr>\n",
       "      <th id=\"T_31ec9_level0_row8\" class=\"row_heading level0 row8\" >8</th>\n",
       "      <td id=\"T_31ec9_row8_col0\" class=\"data row8 col0\" >0.9317</td>\n",
       "      <td id=\"T_31ec9_row8_col1\" class=\"data row8 col1\" >0.9528</td>\n",
       "      <td id=\"T_31ec9_row8_col2\" class=\"data row8 col2\" >0.9243</td>\n",
       "      <td id=\"T_31ec9_row8_col3\" class=\"data row8 col3\" >0.9396</td>\n",
       "      <td id=\"T_31ec9_row8_col4\" class=\"data row8 col4\" >0.9319</td>\n",
       "      <td id=\"T_31ec9_row8_col5\" class=\"data row8 col5\" >0.8634</td>\n",
       "      <td id=\"T_31ec9_row8_col6\" class=\"data row8 col6\" >0.8635</td>\n",
       "    </tr>\n",
       "    <tr>\n",
       "      <th id=\"T_31ec9_level0_row9\" class=\"row_heading level0 row9\" >9</th>\n",
       "      <td id=\"T_31ec9_row9_col0\" class=\"data row9 col0\" >0.9153</td>\n",
       "      <td id=\"T_31ec9_row9_col1\" class=\"data row9 col1\" >0.9472</td>\n",
       "      <td id=\"T_31ec9_row9_col2\" class=\"data row9 col2\" >0.9027</td>\n",
       "      <td id=\"T_31ec9_row9_col3\" class=\"data row9 col3\" >0.9278</td>\n",
       "      <td id=\"T_31ec9_row9_col4\" class=\"data row9 col4\" >0.9151</td>\n",
       "      <td id=\"T_31ec9_row9_col5\" class=\"data row9 col5\" >0.8306</td>\n",
       "      <td id=\"T_31ec9_row9_col6\" class=\"data row9 col6\" >0.8309</td>\n",
       "    </tr>\n",
       "    <tr>\n",
       "      <th id=\"T_31ec9_level0_row10\" class=\"row_heading level0 row10\" >Mean</th>\n",
       "      <td id=\"T_31ec9_row10_col0\" class=\"data row10 col0\" >0.9328</td>\n",
       "      <td id=\"T_31ec9_row10_col1\" class=\"data row10 col1\" >0.9541</td>\n",
       "      <td id=\"T_31ec9_row10_col2\" class=\"data row10 col2\" >0.9288</td>\n",
       "      <td id=\"T_31ec9_row10_col3\" class=\"data row10 col3\" >0.9384</td>\n",
       "      <td id=\"T_31ec9_row10_col4\" class=\"data row10 col4\" >0.9334</td>\n",
       "      <td id=\"T_31ec9_row10_col5\" class=\"data row10 col5\" >0.8656</td>\n",
       "      <td id=\"T_31ec9_row10_col6\" class=\"data row10 col6\" >0.8660</td>\n",
       "    </tr>\n",
       "    <tr>\n",
       "      <th id=\"T_31ec9_level0_row11\" class=\"row_heading level0 row11\" >Std</th>\n",
       "      <td id=\"T_31ec9_row11_col0\" class=\"data row11 col0\" >0.0117</td>\n",
       "      <td id=\"T_31ec9_row11_col1\" class=\"data row11 col1\" >0.0094</td>\n",
       "      <td id=\"T_31ec9_row11_col2\" class=\"data row11 col2\" >0.0186</td>\n",
       "      <td id=\"T_31ec9_row11_col3\" class=\"data row11 col3\" >0.0183</td>\n",
       "      <td id=\"T_31ec9_row11_col4\" class=\"data row11 col4\" >0.0117</td>\n",
       "      <td id=\"T_31ec9_row11_col5\" class=\"data row11 col5\" >0.0233</td>\n",
       "      <td id=\"T_31ec9_row11_col6\" class=\"data row11 col6\" >0.0235</td>\n",
       "    </tr>\n",
       "  </tbody>\n",
       "</table>\n"
      ],
      "text/plain": [
       "<pandas.io.formats.style.Styler at 0x14da8d490>"
      ]
     },
     "metadata": {},
     "output_type": "display_data"
    }
   ],
   "source": [
    "models = []\n",
    "for i in top5:\n",
    "    models.append(tune_model(i,\n",
    "                             optimize='Accuracy',\n",
    "                             choose_better=True,\n",
    "                             n_iter=100))    # 100회"
   ]
  },
  {
   "cell_type": "code",
   "execution_count": null,
   "metadata": {},
   "outputs": [],
   "source": [
    "model_pyc = blend_models(models, optimize = 'Accuracy')\n",
    "model_pyc = tune_model(model_pyc, \n",
    "                    optimize = 'Accuracy', \n",
    "                    choose_better = True,\n",
    "                    n_iter = 100)\n",
    "model_pyc = finalize_model(model_pyc)"
   ]
  },
  {
   "cell_type": "code",
   "execution_count": 56,
   "metadata": {},
   "outputs": [],
   "source": [
    "# 예측 및 내보내기\n",
    "predict = model_pyc.predict(test)\n",
    "result = pd.read_csv('sample_submission.csv')\n",
    "result['expected'] = predict\n",
    "result['expected'] = result['expected'].map({1: 1, 0: -1})\n",
    "result.to_csv('result/pycaret.csv', index = False)"
   ]
  },
  {
   "cell_type": "markdown",
   "metadata": {},
   "source": [
    "### <span style=\"color: skyblue\"> **CatBoost** </span>\n",
    "\n",
    "<img src='img/catboost_tuning.png'>"
   ]
  },
  {
   "cell_type": "code",
   "execution_count": 58,
   "metadata": {},
   "outputs": [],
   "source": [
    "best_params_cat_1={'bagging_temperature': 5.145,\n",
    "                 'depth': 15,\n",
    "                 'l2_leaf_reg': 15.66,\n",
    "                 'learning_rate': 0.6398,\n",
    "                 'subsample': 0.7756\n",
    "                }"
   ]
  },
  {
   "cell_type": "code",
   "execution_count": 59,
   "metadata": {},
   "outputs": [
    {
     "name": "stdout",
     "output_type": "stream",
     "text": [
      "0:\tlearn: 0.9060716\ttotal: 34.1ms\tremaining: 34.1s\n",
      "100:\tlearn: 1.0000000\ttotal: 13.7s\tremaining: 2m 1s\n",
      "200:\tlearn: 1.0000000\ttotal: 26.7s\tremaining: 1m 46s\n",
      "300:\tlearn: 1.0000000\ttotal: 39.6s\tremaining: 1m 31s\n",
      "400:\tlearn: 1.0000000\ttotal: 52.1s\tremaining: 1m 17s\n",
      "500:\tlearn: 1.0000000\ttotal: 1m 4s\tremaining: 1m 4s\n",
      "600:\tlearn: 1.0000000\ttotal: 1m 17s\tremaining: 51.1s\n",
      "700:\tlearn: 1.0000000\ttotal: 1m 29s\tremaining: 38.1s\n",
      "800:\tlearn: 1.0000000\ttotal: 1m 41s\tremaining: 25.3s\n",
      "900:\tlearn: 1.0000000\ttotal: 1m 53s\tremaining: 12.5s\n",
      "999:\tlearn: 1.0000000\ttotal: 2m 6s\tremaining: 0us\n"
     ]
    },
    {
     "data": {
      "text/plain": [
       "<catboost.core.CatBoostClassifier at 0x164251850>"
      ]
     },
     "execution_count": 59,
     "metadata": {},
     "output_type": "execute_result"
    }
   ],
   "source": [
    "model_cat_1 = CatBoostClassifier(**best_params_cat_1, verbose = 100, \n",
    "                               eval_metric='F1', random_state=42)\n",
    "\n",
    "model_cat_1.fit(X, y)"
   ]
  },
  {
   "cell_type": "code",
   "execution_count": 55,
   "metadata": {},
   "outputs": [],
   "source": [
    "best_params_cat={'bagging_temperature': 7.367,\n",
    "                 'depth': 13,\n",
    "                 'l2_leaf_reg': 3.97,\n",
    "                 'learning_rate': 0.06901,\n",
    "                 'subsample': 0.924\n",
    "                }"
   ]
  },
  {
   "cell_type": "code",
   "execution_count": 56,
   "metadata": {},
   "outputs": [
    {
     "name": "stdout",
     "output_type": "stream",
     "text": [
      "0:\tlearn: 0.9181626\ttotal: 89.9ms\tremaining: 1m 29s\n",
      "100:\tlearn: 0.9970374\ttotal: 3.17s\tremaining: 28.2s\n",
      "200:\tlearn: 1.0000000\ttotal: 6.34s\tremaining: 25.2s\n",
      "300:\tlearn: 1.0000000\ttotal: 9.49s\tremaining: 22.1s\n",
      "400:\tlearn: 1.0000000\ttotal: 12.3s\tremaining: 18.4s\n",
      "500:\tlearn: 1.0000000\ttotal: 15s\tremaining: 14.9s\n",
      "600:\tlearn: 1.0000000\ttotal: 17.5s\tremaining: 11.6s\n",
      "700:\tlearn: 1.0000000\ttotal: 20.2s\tremaining: 8.62s\n",
      "800:\tlearn: 1.0000000\ttotal: 22.9s\tremaining: 5.69s\n",
      "900:\tlearn: 1.0000000\ttotal: 25.4s\tremaining: 2.79s\n",
      "999:\tlearn: 1.0000000\ttotal: 27.9s\tremaining: 0us\n"
     ]
    },
    {
     "data": {
      "text/plain": [
       "<catboost.core.CatBoostClassifier at 0x1641f7b50>"
      ]
     },
     "execution_count": 56,
     "metadata": {},
     "output_type": "execute_result"
    }
   ],
   "source": [
    "model_cat = CatBoostClassifier(**best_params_cat, verbose = 100, \n",
    "                               eval_metric='F1', random_state=42)\n",
    "\n",
    "model_cat.fit(X, y)"
   ]
  },
  {
   "cell_type": "code",
   "execution_count": 57,
   "metadata": {},
   "outputs": [],
   "source": [
    "# 예측 및 내보내기\n",
    "predict = model_cat.predict(test)\n",
    "result = pd.read_csv('sample_submission.csv')\n",
    "result['expected'] = predict\n",
    "result['expected'] = result['expected'].map({1: 1, 0: -1})\n",
    "result.to_csv('result/catboost.csv', index = False)"
   ]
  },
  {
   "cell_type": "markdown",
   "metadata": {},
   "source": [
    "### <span style=\"color: skyblue\"> **RandomForest** </span>"
   ]
  },
  {
   "cell_type": "code",
   "execution_count": 40,
   "metadata": {},
   "outputs": [],
   "source": [
    "best_params_rf={'max_depth': 15,\n",
    "                'n_estimators': 1380,\n",
    "               }"
   ]
  },
  {
   "cell_type": "code",
   "execution_count": 41,
   "metadata": {},
   "outputs": [
    {
     "data": {
      "text/plain": [
       "RandomForestClassifier(max_depth=15, n_estimators=1380, random_state=2022)"
      ]
     },
     "execution_count": 41,
     "metadata": {},
     "output_type": "execute_result"
    }
   ],
   "source": [
    "model_rf = RandomForestClassifier(**best_params_rf, random_state=2022)\n",
    "\n",
    "model_rf.fit(X, y)"
   ]
  },
  {
   "cell_type": "code",
   "execution_count": 58,
   "metadata": {},
   "outputs": [],
   "source": [
    "# 예측 및 내보내기\n",
    "predict = model_rf.predict(test)\n",
    "result = pd.read_csv('sample_submission.csv')\n",
    "result['expected'] = predict\n",
    "result['expected'] = result['expected'].map({1: 1, 0: -1})\n",
    "result.to_csv('result/Randomforest.csv', index = False)"
   ]
  },
  {
   "cell_type": "markdown",
   "metadata": {},
   "source": [
    "### <span style=\"color: skyblue\"> **XGBoost** </span>"
   ]
  },
  {
   "cell_type": "code",
   "execution_count": 32,
   "metadata": {},
   "outputs": [],
   "source": [
    "best_params_xg={'learning_rate': 0.4811,\n",
    "                'max_depth': 213,\n",
    "                'n_estimators': 903,\n",
    "                'subsample': 0.952,\n",
    "               }"
   ]
  },
  {
   "cell_type": "code",
   "execution_count": 33,
   "metadata": {},
   "outputs": [
    {
     "data": {
      "text/plain": [
       "XGBClassifier(base_score=0.5, booster='gbtree', callbacks=None,\n",
       "              colsample_bylevel=1, colsample_bynode=1, colsample_bytree=1,\n",
       "              early_stopping_rounds=None, enable_categorical=False,\n",
       "              eval_metric=None, gamma=0, gpu_id=-1, grow_policy='depthwise',\n",
       "              importance_type=None, interaction_constraints='',\n",
       "              learning_rate=0.4811, max_bin=256, max_cat_to_onehot=4,\n",
       "              max_delta_step=0, max_depth=213, max_leaves=0, min_child_weight=1,\n",
       "              missing=nan, monotone_constraints='()', n_estimators=903,\n",
       "              n_jobs=0, num_parallel_tree=1, objective='binary:logistic',\n",
       "              predictor='auto', random_state=2022, reg_alpha=0, ...)"
      ]
     },
     "execution_count": 33,
     "metadata": {},
     "output_type": "execute_result"
    }
   ],
   "source": [
    "model_xg = XGBClassifier(**best_params_xg, random_state=2022)\n",
    "\n",
    "model_xg.fit(X, y)"
   ]
  },
  {
   "cell_type": "code",
   "execution_count": 59,
   "metadata": {},
   "outputs": [],
   "source": [
    "# 예측 및 내보내기\n",
    "predict = model_xg.predict(test)\n",
    "result = pd.read_csv('sample_submission.csv')\n",
    "result['expected'] = predict\n",
    "result['expected'] = result['expected'].map({1: 1, 0: -1})\n",
    "result.to_csv('result/xgboost.csv', index = False)"
   ]
  },
  {
   "cell_type": "markdown",
   "metadata": {},
   "source": [
    "### <span style=\"color: skyblue\"> **LGBM** </span>"
   ]
  },
  {
   "cell_type": "code",
   "execution_count": 35,
   "metadata": {},
   "outputs": [],
   "source": [
    "best_params_lgbm={'learning_rate': 0.7013,\n",
    "                  'max_depth': 233,\n",
    "                  'n_estimators': 2,\n",
    "                  'num_leaves': 357,\n",
    "                  'subsample': 0.4237\n",
    "                 }"
   ]
  },
  {
   "cell_type": "code",
   "execution_count": 36,
   "metadata": {},
   "outputs": [
    {
     "data": {
      "text/plain": [
       "LGBMClassifier(boosting_type='gbdt', class_weight=None, colsample_bytree=1.0,\n",
       "               importance_type='split', learning_rate=0.7013, max_depth=233,\n",
       "               min_child_samples=20, min_child_weight=0.001, min_split_gain=0.0,\n",
       "               n_estimators=2, n_jobs=-1, num_leaves=357, objective=None,\n",
       "               random_state=2022, reg_alpha=0.0, reg_lambda=0.0, silent='warn',\n",
       "               subsample=0.4237, subsample_for_bin=200000, subsample_freq=0)"
      ]
     },
     "execution_count": 36,
     "metadata": {},
     "output_type": "execute_result"
    }
   ],
   "source": [
    "model_lgbm = LGBMClassifier(**best_params_lgbm, random_state=2022)\n",
    "\n",
    "model_lgbm.fit(X, y)"
   ]
  },
  {
   "cell_type": "code",
   "execution_count": 60,
   "metadata": {},
   "outputs": [],
   "source": [
    "# 예측 및 내보내기\n",
    "predict = model_lgbm.predict(test)\n",
    "result = pd.read_csv('sample_submission.csv')\n",
    "result['expected'] = predict\n",
    "result['expected'] = result['expected'].map({1: 1, 0: -1})\n",
    "result.to_csv('result/lightgbm.csv', index = False)"
   ]
  },
  {
   "cell_type": "markdown",
   "metadata": {},
   "source": [
    "### <span style=\"color: skyblue\"> **ExtraTrees** </span>"
   ]
  },
  {
   "cell_type": "code",
   "execution_count": 38,
   "metadata": {},
   "outputs": [],
   "source": [
    "best_params_xtree={'max_depth': 252,\n",
    "                  'min_samples_leaf': 2,\n",
    "                  'min_samples_split':3,\n",
    "                  'n_estimators': 670\n",
    "                  }"
   ]
  },
  {
   "cell_type": "code",
   "execution_count": 39,
   "metadata": {},
   "outputs": [
    {
     "data": {
      "text/plain": [
       "ExtraTreesClassifier(bootstrap=False, ccp_alpha=0.0, class_weight=None,\n",
       "                     criterion='gini', max_depth=252, max_features='auto',\n",
       "                     max_leaf_nodes=None, max_samples=None,\n",
       "                     min_impurity_decrease=0.0, min_impurity_split=None,\n",
       "                     min_samples_leaf=2, min_samples_split=3,\n",
       "                     min_weight_fraction_leaf=0.0, n_estimators=670,\n",
       "                     n_jobs=None, oob_score=False, random_state=2022, verbose=0,\n",
       "                     warm_start=False)"
      ]
     },
     "execution_count": 39,
     "metadata": {},
     "output_type": "execute_result"
    }
   ],
   "source": [
    "model_xtree = ExtraTreesClassifier(**best_params_xtree, random_state=2022)\n",
    "\n",
    "model_xtree.fit(X, y)"
   ]
  },
  {
   "cell_type": "code",
   "execution_count": 61,
   "metadata": {},
   "outputs": [],
   "source": [
    "# 예측 및 내보내기\n",
    "predict = model_xtree.predict(test)\n",
    "result = pd.read_csv('sample_submission.csv')\n",
    "result['expected'] = predict\n",
    "result['expected'] = result['expected'].map({1: 1, 0: -1})\n",
    "result.to_csv('result/ExtraTrees.csv', index = False)"
   ]
  },
  {
   "cell_type": "markdown",
   "metadata": {},
   "source": [
    "## <span style=\"color: hotpink\"> **2. 앙상블(Ensemble)** </span>\n",
    "- 스태킹\n",
    "- 보팅"
   ]
  },
  {
   "cell_type": "markdown",
   "metadata": {},
   "source": [
    "### <span style=\"color: skyblue\"> **스태킹(Stacking)** </span>"
   ]
  },
  {
   "cell_type": "code",
   "execution_count": 41,
   "metadata": {},
   "outputs": [
    {
     "name": "stdout",
     "output_type": "stream",
     "text": [
      "0:\tlearn: 0.9650573\ttotal: 212ms\tremaining: 3m 31s\n",
      "100:\tlearn: 0.9994618\ttotal: 11.2s\tremaining: 1m 39s\n",
      "200:\tlearn: 1.0000000\ttotal: 21.6s\tremaining: 1m 25s\n",
      "300:\tlearn: 1.0000000\ttotal: 32.2s\tremaining: 1m 14s\n",
      "400:\tlearn: 1.0000000\ttotal: 42.4s\tremaining: 1m 3s\n",
      "500:\tlearn: 1.0000000\ttotal: 53.4s\tremaining: 53.2s\n",
      "600:\tlearn: 1.0000000\ttotal: 1m 4s\tremaining: 42.7s\n",
      "700:\tlearn: 1.0000000\ttotal: 1m 14s\tremaining: 31.9s\n",
      "800:\tlearn: 1.0000000\ttotal: 1m 25s\tremaining: 21.1s\n",
      "900:\tlearn: 1.0000000\ttotal: 1m 35s\tremaining: 10.5s\n",
      "999:\tlearn: 1.0000000\ttotal: 1m 45s\tremaining: 0us\n"
     ]
    },
    {
     "data": {
      "text/plain": [
       "StackingClassifier(cv=None,\n",
       "                   estimators=[('randomforest',\n",
       "                                RandomForestClassifier(bootstrap=True,\n",
       "                                                       ccp_alpha=0.0,\n",
       "                                                       class_weight=None,\n",
       "                                                       criterion='gini',\n",
       "                                                       max_depth=15,\n",
       "                                                       max_features='auto',\n",
       "                                                       max_leaf_nodes=None,\n",
       "                                                       max_samples=None,\n",
       "                                                       min_impurity_decrease=0.0,\n",
       "                                                       min_impurity_split=None,\n",
       "                                                       min_samples_leaf=1,\n",
       "                                                       min_samples_split=2,\n",
       "                                                       min_weight_fraction_leaf=0.0,\n",
       "                                                       n_estimators=1380,\n",
       "                                                       n_...\n",
       "                                                     max_samples=None,\n",
       "                                                     min_impurity_decrease=0.0,\n",
       "                                                     min_impurity_split=None,\n",
       "                                                     min_samples_leaf=2,\n",
       "                                                     min_samples_split=3,\n",
       "                                                     min_weight_fraction_leaf=0.0,\n",
       "                                                     n_estimators=670,\n",
       "                                                     n_jobs=None,\n",
       "                                                     oob_score=False,\n",
       "                                                     random_state=2022,\n",
       "                                                     verbose=0,\n",
       "                                                     warm_start=False))],\n",
       "                   final_estimator=<catboost.core.CatBoostClassifier object at 0x14bd79520>,\n",
       "                   n_jobs=None, passthrough=False, stack_method='auto',\n",
       "                   verbose=0)"
      ]
     },
     "execution_count": 41,
     "metadata": {},
     "output_type": "execute_result"
    }
   ],
   "source": [
    "estimators = [('randomforest', RandomForestClassifier(**best_params_rf, random_state=2022)),\n",
    "              ('xgboost', XGBClassifier(**best_params_xg, random_state=2022)),\n",
    "              ('lgbm', LGBMClassifier(**best_params_lgbm, random_state=2022)),\n",
    "              ('xtree', ExtraTreesClassifier(**best_params_xtree, random_state=2022))\n",
    "             ]\n",
    "\n",
    "model_stc = StackingClassifier(estimators=estimators,\n",
    "                           final_estimator= CatBoostClassifier(**best_params_cat, verbose = 100, \n",
    "                                                               eval_metric='F1', random_state=2022))\n",
    "\n",
    "model_stc.fit(X, y)"
   ]
  },
  {
   "cell_type": "code",
   "execution_count": 62,
   "metadata": {},
   "outputs": [],
   "source": [
    "# 예측 및 내보내기\n",
    "predict = model_stc.predict(test)\n",
    "result = pd.read_csv('sample_submission.csv')\n",
    "result['expected'] = predict\n",
    "result['expected'] = result['expected'].map({1: 1, 0: -1})\n",
    "result.to_csv('result/stacking.csv', index = False)"
   ]
  },
  {
   "cell_type": "markdown",
   "metadata": {},
   "source": [
    "### <span style=\"color: skyblue\"> **보팅(Voting)** </span>"
   ]
  },
  {
   "cell_type": "code",
   "execution_count": 60,
   "metadata": {},
   "outputs": [
    {
     "name": "stdout",
     "output_type": "stream",
     "text": [
      "0:\tlearn: 0.9060716\ttotal: 31.3ms\tremaining: 31.3s\n",
      "100:\tlearn: 1.0000000\ttotal: 13.6s\tremaining: 2m\n",
      "200:\tlearn: 1.0000000\ttotal: 26.3s\tremaining: 1m 44s\n",
      "300:\tlearn: 1.0000000\ttotal: 39.5s\tremaining: 1m 31s\n",
      "400:\tlearn: 1.0000000\ttotal: 52.3s\tremaining: 1m 18s\n",
      "500:\tlearn: 1.0000000\ttotal: 1m 4s\tremaining: 1m 4s\n",
      "600:\tlearn: 1.0000000\ttotal: 1m 16s\tremaining: 50.9s\n",
      "700:\tlearn: 1.0000000\ttotal: 1m 28s\tremaining: 37.8s\n",
      "800:\tlearn: 1.0000000\ttotal: 1m 40s\tremaining: 25s\n",
      "900:\tlearn: 1.0000000\ttotal: 1m 52s\tremaining: 12.3s\n",
      "999:\tlearn: 1.0000000\ttotal: 2m 4s\tremaining: 0us\n",
      "0:\tlearn: 0.9181626\ttotal: 26.9ms\tremaining: 26.9s\n",
      "100:\tlearn: 0.9970374\ttotal: 3.04s\tremaining: 27s\n",
      "200:\tlearn: 1.0000000\ttotal: 6.17s\tremaining: 24.5s\n",
      "300:\tlearn: 1.0000000\ttotal: 9.71s\tremaining: 22.6s\n",
      "400:\tlearn: 1.0000000\ttotal: 12.6s\tremaining: 18.9s\n",
      "500:\tlearn: 1.0000000\ttotal: 15.5s\tremaining: 15.4s\n",
      "600:\tlearn: 1.0000000\ttotal: 18.3s\tremaining: 12.1s\n",
      "700:\tlearn: 1.0000000\ttotal: 21s\tremaining: 8.94s\n",
      "800:\tlearn: 1.0000000\ttotal: 23.6s\tremaining: 5.87s\n",
      "900:\tlearn: 1.0000000\ttotal: 26.2s\tremaining: 2.88s\n",
      "999:\tlearn: 1.0000000\ttotal: 28.7s\tremaining: 0us\n"
     ]
    },
    {
     "data": {
      "text/plain": [
       "VotingClassifier(estimators=[('model_v1',\n",
       "                              <catboost.core.CatBoostClassifier object at 0x164251850>),\n",
       "                             ('model_v2',\n",
       "                              <catboost.core.CatBoostClassifier object at 0x1641f7b50>)],\n",
       "                 voting='soft')"
      ]
     },
     "execution_count": 60,
     "metadata": {},
     "output_type": "execute_result"
    }
   ],
   "source": [
    "model_v1 = model_cat_1\n",
    "model_v2 = model_cat\n",
    "\n",
    "estimators=[('model_v1', model_v1), ('model_v2', model_v2)]\n",
    "model_voting = VotingClassifier(estimators=estimators, voting='soft')\n",
    "\n",
    "model_voting.fit(X, y)"
   ]
  },
  {
   "cell_type": "code",
   "execution_count": 61,
   "metadata": {},
   "outputs": [],
   "source": [
    "# 예측 및 내보내기\n",
    "predict = model_voting.predict(test)\n",
    "result = pd.read_csv('sample_submission.csv')\n",
    "result['expected'] = predict\n",
    "result['expected'] = result['expected'].map({1: 1, 0: -1})\n",
    "result.to_csv('result/voting.csv', index = False)"
   ]
  }
 ],
 "metadata": {
  "kernelspec": {
   "display_name": "Python 3.8.13 ('pycaret')",
   "language": "python",
   "name": "python3"
  },
  "language_info": {
   "codemirror_mode": {
    "name": "ipython",
    "version": 3
   },
   "file_extension": ".py",
   "mimetype": "text/x-python",
   "name": "python",
   "nbconvert_exporter": "python",
   "pygments_lexer": "ipython3",
   "version": "3.8.13"
  },
  "orig_nbformat": 4,
  "vscode": {
   "interpreter": {
    "hash": "f2621c7987331c04914b25cbd930d8fac0b13d8bb37e0cd0b4c6940d0c29e913"
   }
  }
 },
 "nbformat": 4,
 "nbformat_minor": 2
}
